{
 "cells": [
  {
   "cell_type": "code",
   "execution_count": 1,
   "id": "bf5c1990",
   "metadata": {
    "_cell_guid": "b1076dfc-b9ad-4769-8c92-a6c4dae69d19",
    "_uuid": "8f2839f25d086af736a60e9eeb907d3b93b6e0e5",
    "execution": {
     "iopub.execute_input": "2022-06-27T06:09:41.432896Z",
     "iopub.status.busy": "2022-06-27T06:09:41.432206Z",
     "iopub.status.idle": "2022-06-27T06:09:42.794645Z",
     "shell.execute_reply": "2022-06-27T06:09:42.792949Z"
    },
    "papermill": {
     "duration": 1.373417,
     "end_time": "2022-06-27T06:09:42.797710",
     "exception": false,
     "start_time": "2022-06-27T06:09:41.424293",
     "status": "completed"
    },
    "tags": []
   },
   "outputs": [
    {
     "name": "stdout",
     "output_type": "stream",
     "text": [
      "/kaggle/input/simple-linear-regression/kc_house_data.csv\n"
     ]
    }
   ],
   "source": [
    "import numpy as np\n",
    "import pandas as pd\n",
    "import matplotlib.pyplot as plt\n",
    "\n",
    "from sklearn.model_selection import train_test_split\n",
    "from sklearn.linear_model import LinearRegression\n",
    "from sklearn.metrics import mean_absolute_error, mean_squared_error\n",
    "\n",
    "import os\n",
    "for dirname, _, filenames in os.walk('/kaggle/input'):\n",
    "    for filename in filenames:\n",
    "        print(os.path.join(dirname, filename))"
   ]
  },
  {
   "cell_type": "code",
   "execution_count": 2,
   "id": "db463d94",
   "metadata": {
    "execution": {
     "iopub.execute_input": "2022-06-27T06:09:42.811337Z",
     "iopub.status.busy": "2022-06-27T06:09:42.810863Z",
     "iopub.status.idle": "2022-06-27T06:09:42.930807Z",
     "shell.execute_reply": "2022-06-27T06:09:42.929776Z"
    },
    "papermill": {
     "duration": 0.129207,
     "end_time": "2022-06-27T06:09:42.933727",
     "exception": false,
     "start_time": "2022-06-27T06:09:42.804520",
     "status": "completed"
    },
    "tags": []
   },
   "outputs": [],
   "source": [
    "data = pd.read_csv('../input/simple-linear-regression/kc_house_data.csv')"
   ]
  },
  {
   "cell_type": "code",
   "execution_count": 3,
   "id": "3455a7a1",
   "metadata": {
    "execution": {
     "iopub.execute_input": "2022-06-27T06:09:42.943953Z",
     "iopub.status.busy": "2022-06-27T06:09:42.943574Z",
     "iopub.status.idle": "2022-06-27T06:09:42.982256Z",
     "shell.execute_reply": "2022-06-27T06:09:42.981198Z"
    },
    "papermill": {
     "duration": 0.046478,
     "end_time": "2022-06-27T06:09:42.984396",
     "exception": false,
     "start_time": "2022-06-27T06:09:42.937918",
     "status": "completed"
    },
    "tags": []
   },
   "outputs": [
    {
     "data": {
      "text/html": [
       "<div>\n",
       "<style scoped>\n",
       "    .dataframe tbody tr th:only-of-type {\n",
       "        vertical-align: middle;\n",
       "    }\n",
       "\n",
       "    .dataframe tbody tr th {\n",
       "        vertical-align: top;\n",
       "    }\n",
       "\n",
       "    .dataframe thead th {\n",
       "        text-align: right;\n",
       "    }\n",
       "</style>\n",
       "<table border=\"1\" class=\"dataframe\">\n",
       "  <thead>\n",
       "    <tr style=\"text-align: right;\">\n",
       "      <th></th>\n",
       "      <th>id</th>\n",
       "      <th>date</th>\n",
       "      <th>price</th>\n",
       "      <th>bedrooms</th>\n",
       "      <th>bathrooms</th>\n",
       "      <th>sqft_living</th>\n",
       "      <th>sqft_lot</th>\n",
       "      <th>floors</th>\n",
       "      <th>waterfront</th>\n",
       "      <th>view</th>\n",
       "      <th>...</th>\n",
       "      <th>grade</th>\n",
       "      <th>sqft_above</th>\n",
       "      <th>sqft_basement</th>\n",
       "      <th>yr_built</th>\n",
       "      <th>yr_renovated</th>\n",
       "      <th>zipcode</th>\n",
       "      <th>lat</th>\n",
       "      <th>long</th>\n",
       "      <th>sqft_living15</th>\n",
       "      <th>sqft_lot15</th>\n",
       "    </tr>\n",
       "  </thead>\n",
       "  <tbody>\n",
       "    <tr>\n",
       "      <th>0</th>\n",
       "      <td>7129300520</td>\n",
       "      <td>20141013T000000</td>\n",
       "      <td>221900.0</td>\n",
       "      <td>3</td>\n",
       "      <td>1.00</td>\n",
       "      <td>1180</td>\n",
       "      <td>5650</td>\n",
       "      <td>1.0</td>\n",
       "      <td>0</td>\n",
       "      <td>0</td>\n",
       "      <td>...</td>\n",
       "      <td>7</td>\n",
       "      <td>1180</td>\n",
       "      <td>0</td>\n",
       "      <td>1955</td>\n",
       "      <td>0</td>\n",
       "      <td>98178</td>\n",
       "      <td>47.5112</td>\n",
       "      <td>-122.257</td>\n",
       "      <td>1340</td>\n",
       "      <td>5650</td>\n",
       "    </tr>\n",
       "    <tr>\n",
       "      <th>1</th>\n",
       "      <td>6414100192</td>\n",
       "      <td>20141209T000000</td>\n",
       "      <td>538000.0</td>\n",
       "      <td>3</td>\n",
       "      <td>2.25</td>\n",
       "      <td>2570</td>\n",
       "      <td>7242</td>\n",
       "      <td>2.0</td>\n",
       "      <td>0</td>\n",
       "      <td>0</td>\n",
       "      <td>...</td>\n",
       "      <td>7</td>\n",
       "      <td>2170</td>\n",
       "      <td>400</td>\n",
       "      <td>1951</td>\n",
       "      <td>1991</td>\n",
       "      <td>98125</td>\n",
       "      <td>47.7210</td>\n",
       "      <td>-122.319</td>\n",
       "      <td>1690</td>\n",
       "      <td>7639</td>\n",
       "    </tr>\n",
       "    <tr>\n",
       "      <th>2</th>\n",
       "      <td>5631500400</td>\n",
       "      <td>20150225T000000</td>\n",
       "      <td>180000.0</td>\n",
       "      <td>2</td>\n",
       "      <td>1.00</td>\n",
       "      <td>770</td>\n",
       "      <td>10000</td>\n",
       "      <td>1.0</td>\n",
       "      <td>0</td>\n",
       "      <td>0</td>\n",
       "      <td>...</td>\n",
       "      <td>6</td>\n",
       "      <td>770</td>\n",
       "      <td>0</td>\n",
       "      <td>1933</td>\n",
       "      <td>0</td>\n",
       "      <td>98028</td>\n",
       "      <td>47.7379</td>\n",
       "      <td>-122.233</td>\n",
       "      <td>2720</td>\n",
       "      <td>8062</td>\n",
       "    </tr>\n",
       "    <tr>\n",
       "      <th>3</th>\n",
       "      <td>2487200875</td>\n",
       "      <td>20141209T000000</td>\n",
       "      <td>604000.0</td>\n",
       "      <td>4</td>\n",
       "      <td>3.00</td>\n",
       "      <td>1960</td>\n",
       "      <td>5000</td>\n",
       "      <td>1.0</td>\n",
       "      <td>0</td>\n",
       "      <td>0</td>\n",
       "      <td>...</td>\n",
       "      <td>7</td>\n",
       "      <td>1050</td>\n",
       "      <td>910</td>\n",
       "      <td>1965</td>\n",
       "      <td>0</td>\n",
       "      <td>98136</td>\n",
       "      <td>47.5208</td>\n",
       "      <td>-122.393</td>\n",
       "      <td>1360</td>\n",
       "      <td>5000</td>\n",
       "    </tr>\n",
       "    <tr>\n",
       "      <th>4</th>\n",
       "      <td>1954400510</td>\n",
       "      <td>20150218T000000</td>\n",
       "      <td>510000.0</td>\n",
       "      <td>3</td>\n",
       "      <td>2.00</td>\n",
       "      <td>1680</td>\n",
       "      <td>8080</td>\n",
       "      <td>1.0</td>\n",
       "      <td>0</td>\n",
       "      <td>0</td>\n",
       "      <td>...</td>\n",
       "      <td>8</td>\n",
       "      <td>1680</td>\n",
       "      <td>0</td>\n",
       "      <td>1987</td>\n",
       "      <td>0</td>\n",
       "      <td>98074</td>\n",
       "      <td>47.6168</td>\n",
       "      <td>-122.045</td>\n",
       "      <td>1800</td>\n",
       "      <td>7503</td>\n",
       "    </tr>\n",
       "  </tbody>\n",
       "</table>\n",
       "<p>5 rows × 21 columns</p>\n",
       "</div>"
      ],
      "text/plain": [
       "           id             date     price  bedrooms  bathrooms  sqft_living  \\\n",
       "0  7129300520  20141013T000000  221900.0         3       1.00         1180   \n",
       "1  6414100192  20141209T000000  538000.0         3       2.25         2570   \n",
       "2  5631500400  20150225T000000  180000.0         2       1.00          770   \n",
       "3  2487200875  20141209T000000  604000.0         4       3.00         1960   \n",
       "4  1954400510  20150218T000000  510000.0         3       2.00         1680   \n",
       "\n",
       "   sqft_lot  floors  waterfront  view  ...  grade  sqft_above  sqft_basement  \\\n",
       "0      5650     1.0           0     0  ...      7        1180              0   \n",
       "1      7242     2.0           0     0  ...      7        2170            400   \n",
       "2     10000     1.0           0     0  ...      6         770              0   \n",
       "3      5000     1.0           0     0  ...      7        1050            910   \n",
       "4      8080     1.0           0     0  ...      8        1680              0   \n",
       "\n",
       "   yr_built  yr_renovated  zipcode      lat     long  sqft_living15  \\\n",
       "0      1955             0    98178  47.5112 -122.257           1340   \n",
       "1      1951          1991    98125  47.7210 -122.319           1690   \n",
       "2      1933             0    98028  47.7379 -122.233           2720   \n",
       "3      1965             0    98136  47.5208 -122.393           1360   \n",
       "4      1987             0    98074  47.6168 -122.045           1800   \n",
       "\n",
       "   sqft_lot15  \n",
       "0        5650  \n",
       "1        7639  \n",
       "2        8062  \n",
       "3        5000  \n",
       "4        7503  \n",
       "\n",
       "[5 rows x 21 columns]"
      ]
     },
     "execution_count": 3,
     "metadata": {},
     "output_type": "execute_result"
    }
   ],
   "source": [
    "data.head()"
   ]
  },
  {
   "cell_type": "code",
   "execution_count": 4,
   "id": "7dc6e4c6",
   "metadata": {
    "execution": {
     "iopub.execute_input": "2022-06-27T06:09:42.995982Z",
     "iopub.status.busy": "2022-06-27T06:09:42.995213Z",
     "iopub.status.idle": "2022-06-27T06:09:43.006189Z",
     "shell.execute_reply": "2022-06-27T06:09:43.004805Z"
    },
    "papermill": {
     "duration": 0.020205,
     "end_time": "2022-06-27T06:09:43.009207",
     "exception": false,
     "start_time": "2022-06-27T06:09:42.989002",
     "status": "completed"
    },
    "tags": []
   },
   "outputs": [],
   "source": [
    "x = data['sqft_living'].values.reshape(-1,1)\n",
    "y = data['price'].values.reshape(-1,1)"
   ]
  },
  {
   "cell_type": "code",
   "execution_count": 5,
   "id": "ee6986b3",
   "metadata": {
    "execution": {
     "iopub.execute_input": "2022-06-27T06:09:43.020724Z",
     "iopub.status.busy": "2022-06-27T06:09:43.020315Z",
     "iopub.status.idle": "2022-06-27T06:09:43.311270Z",
     "shell.execute_reply": "2022-06-27T06:09:43.309749Z"
    },
    "papermill": {
     "duration": 0.30001,
     "end_time": "2022-06-27T06:09:43.314112",
     "exception": false,
     "start_time": "2022-06-27T06:09:43.014102",
     "status": "completed"
    },
    "tags": []
   },
   "outputs": [
    {
     "data": {
      "image/png": "[encoded data removed]",
      "text/plain": [
       "<Figure size 432x288 with 1 Axes>"
      ]
     },
     "metadata": {
      "needs_background": "light"
     },
     "output_type": "display_data"
    }
   ],
   "source": [
    "\n",
    "\n",
    "\n",
    "plt.scatter(\n",
    "    data['sqft_living'],\n",
    "    data['price'],\n",
    "    c='blue'\n",
    ")\n",
    "plt.xlabel(\"Living Area\")\n",
    "plt.ylabel(\"Price\")\n",
    "plt.show()"
   ]
  },
  {
   "cell_type": "code",
   "execution_count": 6,
   "id": "715dfa7b",
   "metadata": {
    "execution": {
     "iopub.execute_input": "2022-06-27T06:09:43.326554Z",
     "iopub.status.busy": "2022-06-27T06:09:43.325560Z",
     "iopub.status.idle": "2022-06-27T06:09:43.332818Z",
     "shell.execute_reply": "2022-06-27T06:09:43.332026Z"
    },
    "papermill": {
     "duration": 0.015952,
     "end_time": "2022-06-27T06:09:43.335083",
     "exception": false,
     "start_time": "2022-06-27T06:09:43.319131",
     "status": "completed"
    },
    "tags": []
   },
   "outputs": [],
   "source": [
    "\n",
    "x_train, x_test, y_train, y_test = train_test_split(x, y, test_size = 0.20)"
   ]
  },
  {
   "cell_type": "code",
   "execution_count": 7,
   "id": "f6669258",
   "metadata": {
    "execution": {
     "iopub.execute_input": "2022-06-27T06:09:43.346689Z",
     "iopub.status.busy": "2022-06-27T06:09:43.345959Z",
     "iopub.status.idle": "2022-06-27T06:09:43.372178Z",
     "shell.execute_reply": "2022-06-27T06:09:43.370684Z"
    },
    "papermill": {
     "duration": 0.037497,
     "end_time": "2022-06-27T06:09:43.377312",
     "exception": false,
     "start_time": "2022-06-27T06:09:43.339815",
     "status": "completed"
    },
    "tags": []
   },
   "outputs": [
    {
     "name": "stdout",
     "output_type": "stream",
     "text": [
      "The linear model is: Price = -5.1732e+04 + 285.59(Living Area)\n"
     ]
    }
   ],
   "source": [
    "\n",
    "reg = LinearRegression()\n",
    "reg.fit(x_train, y_train)\n",
    "print(\"The linear model is: Price = {:.5} + {:.5}(Living Area)\".format(reg.intercept_[0], reg.coef_[0][0]))"
   ]
  },
  {
   "cell_type": "code",
   "execution_count": 8,
   "id": "ea186a25",
   "metadata": {
    "execution": {
     "iopub.execute_input": "2022-06-27T06:09:43.389211Z",
     "iopub.status.busy": "2022-06-27T06:09:43.388795Z",
     "iopub.status.idle": "2022-06-27T06:09:43.663578Z",
     "shell.execute_reply": "2022-06-27T06:09:43.661947Z"
    },
    "papermill": {
     "duration": 0.2842,
     "end_time": "2022-06-27T06:09:43.666530",
     "exception": false,
     "start_time": "2022-06-27T06:09:43.382330",
     "status": "completed"
    },
    "tags": []
   },
   "outputs": [
    {
     "data": {
      "image/png": "[encoded data removed]",
      "text/plain": [
       "<Figure size 1152x576 with 1 Axes>"
      ]
     },
     "metadata": {
      "needs_background": "light"
     },
     "output_type": "display_data"
    }
   ],
   "source": [
    "predictions = reg.predict(x_train)\n",
    "plt.figure(figsize=(16, 8))\n",
    "plt.scatter(\n",
    "     x_train,\n",
    "     y_train,\n",
    "     c='blue'\n",
    ")\n",
    "plt.plot(\n",
    "    x_train,\n",
    "    predictions,\n",
    "    c='black',\n",
    "    linewidth=2\n",
    ")\n",
    "plt.xlabel(\"Living Area\")\n",
    "plt.ylabel(\"Price\")\n",
    "plt.show()"
   ]
  },
  {
   "cell_type": "code",
   "execution_count": 9,
   "id": "081c7ac8",
   "metadata": {
    "execution": {
     "iopub.execute_input": "2022-06-27T06:09:43.681104Z",
     "iopub.status.busy": "2022-06-27T06:09:43.680465Z",
     "iopub.status.idle": "2022-06-27T06:09:43.896937Z",
     "shell.execute_reply": "2022-06-27T06:09:43.896099Z"
    },
    "papermill": {
     "duration": 0.226599,
     "end_time": "2022-06-27T06:09:43.899539",
     "exception": false,
     "start_time": "2022-06-27T06:09:43.672940",
     "status": "completed"
    },
    "tags": []
   },
   "outputs": [
    {
     "data": {
      "image/png": "[encoded data removed]",
      "text/plain": [
       "<Figure size 1152x576 with 1 Axes>"
      ]
     },
     "metadata": {
      "needs_background": "light"
     },
     "output_type": "display_data"
    }
   ],
   "source": [
    "predictions = reg.predict(x_test)\n",
    "plt.figure(figsize=(16, 8))\n",
    "plt.scatter(\n",
    "     x_test,\n",
    "     y_test,\n",
    "     c='blue'\n",
    ")\n",
    "plt.plot(\n",
    "    x_test,\n",
    "    predictions,\n",
    "    c='black',\n",
    "    linewidth=2\n",
    ")\n",
    "plt.xlabel(\"Experience\")\n",
    "plt.ylabel(\"Stipend\")\n",
    "plt.show()"
   ]
  },
  {
   "cell_type": "code",
   "execution_count": 10,
   "id": "65fc00b5",
   "metadata": {
    "execution": {
     "iopub.execute_input": "2022-06-27T06:09:43.914872Z",
     "iopub.status.busy": "2022-06-27T06:09:43.914076Z",
     "iopub.status.idle": "2022-06-27T06:09:43.923644Z",
     "shell.execute_reply": "2022-06-27T06:09:43.922197Z"
    },
    "papermill": {
     "duration": 0.020669,
     "end_time": "2022-06-27T06:09:43.926667",
     "exception": false,
     "start_time": "2022-06-27T06:09:43.905998",
     "status": "completed"
    },
    "tags": []
   },
   "outputs": [
    {
     "name": "stdout",
     "output_type": "stream",
     "text": [
      "171556.89764817685\n",
      "61696961175.3794\n",
      "248388.72996853018\n"
     ]
    }
   ],
   "source": [
    "print(mean_absolute_error(y_test, predictions))\n",
    "print(mean_squared_error(y_test, predictions))\n",
    "print(np.sqrt(mean_squared_error(y_test, predictions)))"
   ]
  },
  {
   "cell_type": "code",
   "execution_count": null,
   "id": "ce4a9c66",
   "metadata": {
    "papermill": {
     "duration": 0.005853,
     "end_time": "2022-06-27T06:09:43.938958",
     "exception": false,
     "start_time": "2022-06-27T06:09:43.933105",
     "status": "completed"
    },
    "tags": []
   },
   "outputs": [],
   "source": []
  },
  {
   "cell_type": "code",
   "execution_count": null,
   "id": "59ad853d",
   "metadata": {
    "papermill": {
     "duration": 0.005881,
     "end_time": "2022-06-27T06:09:43.950969",
     "exception": false,
     "start_time": "2022-06-27T06:09:43.945088",
     "status": "completed"
    },
    "tags": []
   },
   "outputs": [],
   "source": []
  }
 ],
 "metadata": {
  "kernelspec": {
   "display_name": "Python 3",
   "language": "python",
   "name": "python3"
  },
  "language_info": {
   "codemirror_mode": {
    "name": "ipython",
    "version": 3
   },
   "file_extension": ".py",
   "mimetype": "text/x-python",
   "name": "python",
   "nbconvert_exporter": "python",
   "pygments_lexer": "ipython3",
   "version": "3.7.12"
  },
  "papermill": {
   "default_parameters": {},
   "duration": 13.942332,
   "end_time": "2022-06-27T06:09:44.882213",
   "environment_variables": {},
   "exception": null,
   "input_path": "__notebook__.ipynb",
   "output_path": "__notebook__.ipynb",
   "parameters": {},
   "start_time": "2022-06-27T06:09:30.939881",
   "version": "2.3.4"
  }
 },
 "nbformat": 4,
 "nbformat_minor": 5
}
